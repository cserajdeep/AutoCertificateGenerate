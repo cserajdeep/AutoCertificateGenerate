{
 "cells": [
  {
   "cell_type": "code",
   "execution_count": 1,
   "metadata": {},
   "outputs": [],
   "source": [
    "# Python code for creating event certificates (PDFs) from a given data file (.xlsx)\n",
    "import pandas as pd\n",
    "from PIL import Image, ImageDraw, ImageFont\n",
    "\n",
    "# Here, the given .xlsx file name is participants. stored at the same folder\n",
    "data = pd.read_excel('participants.xlsx')\n",
    "name_list = data[\"Name\"].tolist() \n",
    "\n",
    "for i in name_list:\n",
    "    # MS Cerificate template has been used only for example, one can change it accordingly\n",
    "    im = Image.open('ms_certificate.jpg')\n",
    "    im = im.convert('RGB')\n",
    "    d = ImageDraw.Draw(im)\n",
    "    location = (70, 222)\n",
    "    text_color = (0, 137, 209)\n",
    "    font = ImageFont.truetype(\"arial.ttf\", 60)\n",
    "    d.text(location, i, fill = text_color, font = font)\n",
    "    fname = i.split(' ')[0]\n",
    "    lname = i.split(' ')[1]\n",
    "    # Saving the newly created certificates participant-wise to a specified folder (event_certificates)\n",
    "    im.save(\"./event_certificates/certificate_\" + fname + \"_\" + lname + \".pdf\")"
   ]
  },
  {
   "cell_type": "code",
   "execution_count": 1,
   "metadata": {},
   "outputs": [],
   "source": [
    "# Python code for creating event certificates (PDFs) with unique QR codes from a given data file (.xlsx)\n",
    "import pandas as pd\n",
    "import qrcode\n",
    "import PIL\n",
    "from PIL import Image, ImageDraw, ImageFont\n",
    "\n",
    "data = pd.read_excel('participants.xlsx')\n",
    "name_list = data[\"Name\"].tolist()\n",
    "\n",
    "logo = Image.open('cine2020_logo.png').resize((50,50),PIL.Image.LANCZOS)\n",
    "#logo = logo,PIL.Image.NEAREST)\n",
    "qr = qrcode.QRCode(\n",
    "    version=12,\n",
    "    error_correction=qrcode.constants.ERROR_CORRECT_H,\n",
    "    box_size=2,\n",
    "    border=8\n",
    ")\n",
    "\n",
    "for i in name_list:\n",
    "    # MS Cerificate template has been used only for example, one can change it accordingly\n",
    "    # Reading the Certificate format in picture\n",
    "    im = Image.open('ms_certificate.jpg')\n",
    "    im = im.convert('RGB')\n",
    "    d = ImageDraw.Draw(im)\n",
    "    location = (70, 222)\n",
    "    text_color = (0, 137, 209)\n",
    "    font = ImageFont.truetype(\"arial.ttf\", 60)\n",
    "    d.text(location, i, fill = text_color, font = font)\n",
    "\n",
    "    # Unique QR code generation \n",
    "    qr.add_data(i)\n",
    "    qr.make()\n",
    "    img_qr = qr.make_image().convert('RGB')\n",
    "    \n",
    "    #position of the logo\n",
    "    lpos = ((img_qr.size[0] - logo.size[0]) // 2, (img_qr.size[1] - logo.size[1]) // 2) \n",
    "    img_qr.paste(logo, lpos)\n",
    "    \n",
    "    #position of the QR code\n",
    "    qpos = (652,30)   \n",
    "    im.paste(img_qr, qpos)\n",
    "    \n",
    "    #Save the PDFs\n",
    "    fname = i.split(' ')[0]\n",
    "    lname = i.split(' ')[1]\n",
    "    # Saving the newly created certificates participant-wise to a specified folder (event_certificates)\n",
    "    im.save(\"./event_certificates/certificate_\" + fname + \"_\" + lname + \".pdf\")"
   ]
  },
  {
   "cell_type": "code",
   "execution_count": null,
   "metadata": {},
   "outputs": [],
   "source": []
  }
 ],
 "metadata": {
  "kernelspec": {
   "display_name": "Python 3",
   "language": "python",
   "name": "python3"
  },
  "language_info": {
   "codemirror_mode": {
    "name": "ipython",
    "version": 3
   },
   "file_extension": ".py",
   "mimetype": "text/x-python",
   "name": "python",
   "nbconvert_exporter": "python",
   "pygments_lexer": "ipython3",
   "version": "3.7.4"
  }
 },
 "nbformat": 4,
 "nbformat_minor": 2
}
